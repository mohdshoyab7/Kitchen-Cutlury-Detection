{
 "cells": [
  {
   "cell_type": "code",
   "execution_count": 1,
   "id": "70810038",
   "metadata": {},
   "outputs": [],
   "source": [
    "import numpy as np\n",
    "import cv2\n",
    "import os\n",
    "import random\n",
    "import matplotlib.pyplot as plt\n",
    "import tensorflow as tf\n",
    "import numpy as np\n",
    "from keras.preprocessing.image import ImageDataGenerator"
   ]
  },
  {
   "cell_type": "code",
   "execution_count": 2,
   "id": "927908d1",
   "metadata": {},
   "outputs": [
    {
     "name": "stdout",
     "output_type": "stream",
     "text": [
      "Found 160 images belonging to 4 classes.\n"
     ]
    }
   ],
   "source": [
    "train_datagen= ImageDataGenerator(\n",
    "    rescale=1./255,\n",
    "    shear_range=0.2,\n",
    "    zoom_range=0.2,\n",
    "    horizontal_flip=True)\n",
    "training_set = train_datagen.flow_from_directory(r'C:\\dataset\\training',target_size=(256,256),batch_size=4,class_mode='categorical')"
   ]
  },
  {
   "cell_type": "raw",
   "id": "267c5821",
   "metadata": {},
   "source": []
  },
  {
   "cell_type": "code",
   "execution_count": 3,
   "id": "13a89c9a",
   "metadata": {},
   "outputs": [
    {
     "name": "stdout",
     "output_type": "stream",
     "text": [
      "Found 40 images belonging to 4 classes.\n"
     ]
    }
   ],
   "source": [
    "test_datagen = ImageDataGenerator(rescale= 1./255)\n",
    "test_set = test_datagen.flow_from_directory(r'C:\\dataset\\testing',target_size=(256,256),batch_size=4,class_mode='categorical')"
   ]
  },
  {
   "cell_type": "code",
   "execution_count": 4,
   "id": "aa39e130",
   "metadata": {},
   "outputs": [],
   "source": [
    "model=tf.keras.models.Sequential()\n",
    "model.add(tf.keras.layers.Conv2D(filters=32,kernel_size=3,activation='relu',input_shape=[256,256,3]))\n",
    "model.add(tf.keras.layers.MaxPool2D(pool_size=2,strides=2))\n",
    "model.add(tf.keras.layers.Dropout(0.5))\n",
    "model.add(tf.keras.layers.Conv2D(filters=64,kernel_size=3,activation='relu'))\n",
    "model.add(tf.keras.layers.MaxPool2D(pool_size=2,strides=2))\n",
    "model.add(tf.keras.layers.Dropout(0.5))\n",
    "model.add(tf.keras.layers.Conv2D(filters=128,kernel_size=3,activation='relu'))\n",
    "model.add(tf.keras.layers.MaxPool2D(pool_size=2,strides=2))\n",
    "model.add(tf.keras.layers.Dropout(0.5))\n",
    "model.add(tf.keras.layers.Flatten())\n",
    "model.add(tf.keras.layers.Dense(units=128,activation='relu'))\n",
    "model.add(tf.keras.layers.Dense(units=4,activation='softmax'))"
   ]
  },
  {
   "cell_type": "code",
   "execution_count": 5,
   "id": "cf916d20",
   "metadata": {},
   "outputs": [],
   "source": [
    "model.compile(optimizer='rmsprop',loss='categorical_crossentropy',metrics=['accuracy'])"
   ]
  },
  {
   "cell_type": "code",
   "execution_count": 6,
   "id": "758d8173",
   "metadata": {},
   "outputs": [
    {
     "name": "stdout",
     "output_type": "stream",
     "text": [
      "Epoch 1/50\n",
      "40/40 [==============================] - 24s 539ms/step - loss: 2.1735 - accuracy: 0.2313 - val_loss: 1.3826 - val_accuracy: 0.3000\n",
      "Epoch 2/50\n",
      "40/40 [==============================] - 21s 523ms/step - loss: 1.4398 - accuracy: 0.3187 - val_loss: 1.3262 - val_accuracy: 0.5000\n",
      "Epoch 3/50\n",
      "40/40 [==============================] - 21s 525ms/step - loss: 1.2698 - accuracy: 0.4812 - val_loss: 1.1482 - val_accuracy: 0.5750\n",
      "Epoch 4/50\n",
      "40/40 [==============================] - 21s 523ms/step - loss: 1.0044 - accuracy: 0.5625 - val_loss: 1.0357 - val_accuracy: 0.6750\n",
      "Epoch 5/50\n",
      "40/40 [==============================] - 21s 523ms/step - loss: 0.8884 - accuracy: 0.6812 - val_loss: 0.8845 - val_accuracy: 0.7250\n",
      "Epoch 6/50\n",
      "40/40 [==============================] - 21s 522ms/step - loss: 0.7043 - accuracy: 0.6562 - val_loss: 0.6140 - val_accuracy: 0.7000\n",
      "Epoch 7/50\n",
      "40/40 [==============================] - 21s 526ms/step - loss: 0.6978 - accuracy: 0.7063 - val_loss: 0.7178 - val_accuracy: 0.6750\n",
      "Epoch 8/50\n",
      "40/40 [==============================] - 21s 525ms/step - loss: 0.5375 - accuracy: 0.7812 - val_loss: 0.8711 - val_accuracy: 0.7000\n",
      "Epoch 9/50\n",
      "40/40 [==============================] - 21s 523ms/step - loss: 0.4844 - accuracy: 0.7937 - val_loss: 0.9353 - val_accuracy: 0.6250\n",
      "Epoch 10/50\n",
      "40/40 [==============================] - 21s 524ms/step - loss: 0.5817 - accuracy: 0.7688 - val_loss: 0.6022 - val_accuracy: 0.6250\n",
      "Epoch 11/50\n",
      "40/40 [==============================] - 21s 526ms/step - loss: 0.4876 - accuracy: 0.7937 - val_loss: 0.9595 - val_accuracy: 0.6250\n",
      "Epoch 12/50\n",
      "40/40 [==============================] - 21s 530ms/step - loss: 0.4787 - accuracy: 0.8250 - val_loss: 0.6483 - val_accuracy: 0.6250\n",
      "Epoch 13/50\n",
      "40/40 [==============================] - 21s 523ms/step - loss: 0.3799 - accuracy: 0.8375 - val_loss: 1.1254 - val_accuracy: 0.6000\n",
      "Epoch 14/50\n",
      "40/40 [==============================] - 21s 513ms/step - loss: 0.4555 - accuracy: 0.8062 - val_loss: 0.8845 - val_accuracy: 0.5750\n",
      "Epoch 15/50\n",
      "40/40 [==============================] - 20s 508ms/step - loss: 0.4335 - accuracy: 0.8625 - val_loss: 0.6313 - val_accuracy: 0.6500\n",
      "Epoch 16/50\n",
      "40/40 [==============================] - 21s 522ms/step - loss: 0.3446 - accuracy: 0.8750 - val_loss: 0.7592 - val_accuracy: 0.6750\n",
      "Epoch 17/50\n",
      "40/40 [==============================] - 21s 514ms/step - loss: 0.3769 - accuracy: 0.8500 - val_loss: 0.9761 - val_accuracy: 0.6500\n",
      "Epoch 18/50\n",
      "40/40 [==============================] - 21s 523ms/step - loss: 0.3241 - accuracy: 0.8875 - val_loss: 0.8108 - val_accuracy: 0.5750\n",
      "Epoch 19/50\n",
      "40/40 [==============================] - 21s 523ms/step - loss: 0.2581 - accuracy: 0.9000 - val_loss: 1.2693 - val_accuracy: 0.6000\n",
      "Epoch 20/50\n",
      "40/40 [==============================] - 21s 517ms/step - loss: 0.1996 - accuracy: 0.9125 - val_loss: 0.9548 - val_accuracy: 0.6250\n",
      "Epoch 21/50\n",
      "40/40 [==============================] - 21s 527ms/step - loss: 0.2254 - accuracy: 0.9187 - val_loss: 0.9553 - val_accuracy: 0.5500\n",
      "Epoch 22/50\n",
      "40/40 [==============================] - 21s 523ms/step - loss: 0.1972 - accuracy: 0.9062 - val_loss: 0.9165 - val_accuracy: 0.6750\n",
      "Epoch 23/50\n",
      "40/40 [==============================] - 21s 523ms/step - loss: 0.2609 - accuracy: 0.9187 - val_loss: 0.7924 - val_accuracy: 0.7250\n",
      "Epoch 24/50\n",
      "40/40 [==============================] - 21s 523ms/step - loss: 0.2219 - accuracy: 0.9312 - val_loss: 0.9396 - val_accuracy: 0.6750\n",
      "Epoch 25/50\n",
      "40/40 [==============================] - 21s 527ms/step - loss: 0.3758 - accuracy: 0.9125 - val_loss: 0.8129 - val_accuracy: 0.6500\n",
      "Epoch 26/50\n",
      "40/40 [==============================] - 21s 529ms/step - loss: 0.2212 - accuracy: 0.9500 - val_loss: 0.6974 - val_accuracy: 0.6750\n",
      "Epoch 27/50\n",
      "40/40 [==============================] - 22s 534ms/step - loss: 0.2829 - accuracy: 0.8875 - val_loss: 0.8835 - val_accuracy: 0.7000\n",
      "Epoch 28/50\n",
      "40/40 [==============================] - 21s 521ms/step - loss: 0.1389 - accuracy: 0.9438 - val_loss: 0.6001 - val_accuracy: 0.7250\n",
      "Epoch 29/50\n",
      "40/40 [==============================] - 21s 523ms/step - loss: 0.1585 - accuracy: 0.9563 - val_loss: 1.0350 - val_accuracy: 0.7250\n",
      "Epoch 30/50\n",
      "40/40 [==============================] - 21s 521ms/step - loss: 0.2054 - accuracy: 0.9625 - val_loss: 1.1605 - val_accuracy: 0.6250\n",
      "Epoch 31/50\n",
      "40/40 [==============================] - 21s 527ms/step - loss: 0.2563 - accuracy: 0.9438 - val_loss: 0.8457 - val_accuracy: 0.7000\n",
      "Epoch 32/50\n",
      "40/40 [==============================] - 21s 522ms/step - loss: 0.3996 - accuracy: 0.9250 - val_loss: 0.6917 - val_accuracy: 0.7250\n",
      "Epoch 33/50\n",
      "40/40 [==============================] - 21s 522ms/step - loss: 0.3020 - accuracy: 0.9000 - val_loss: 0.6625 - val_accuracy: 0.7250\n",
      "Epoch 34/50\n",
      "40/40 [==============================] - 21s 525ms/step - loss: 0.0935 - accuracy: 0.9625 - val_loss: 0.9905 - val_accuracy: 0.7000\n",
      "Epoch 35/50\n",
      "40/40 [==============================] - 21s 524ms/step - loss: 0.2065 - accuracy: 0.9438 - val_loss: 0.7781 - val_accuracy: 0.7250\n",
      "Epoch 36/50\n",
      "40/40 [==============================] - 21s 522ms/step - loss: 0.2952 - accuracy: 0.9688 - val_loss: 0.6362 - val_accuracy: 0.7750\n",
      "Epoch 37/50\n",
      "40/40 [==============================] - 21s 528ms/step - loss: 0.2353 - accuracy: 0.9563 - val_loss: 1.6575 - val_accuracy: 0.6750\n",
      "Epoch 38/50\n",
      "40/40 [==============================] - 21s 530ms/step - loss: 0.1927 - accuracy: 0.9563 - val_loss: 1.8717 - val_accuracy: 0.6250\n",
      "Epoch 39/50\n",
      "40/40 [==============================] - 21s 526ms/step - loss: 0.1173 - accuracy: 0.9438 - val_loss: 1.2266 - val_accuracy: 0.7000\n",
      "Epoch 40/50\n",
      "40/40 [==============================] - 21s 532ms/step - loss: 0.8725 - accuracy: 0.9625 - val_loss: 1.7804 - val_accuracy: 0.7000\n",
      "Epoch 41/50\n",
      "40/40 [==============================] - 21s 522ms/step - loss: 0.2357 - accuracy: 0.9375 - val_loss: 1.4518 - val_accuracy: 0.7250\n",
      "Epoch 42/50\n",
      "40/40 [==============================] - 21s 526ms/step - loss: 0.2840 - accuracy: 0.9250 - val_loss: 1.5639 - val_accuracy: 0.6500\n",
      "Epoch 43/50\n",
      "40/40 [==============================] - 21s 525ms/step - loss: 0.3096 - accuracy: 0.9500 - val_loss: 1.7927 - val_accuracy: 0.7000\n",
      "Epoch 44/50\n",
      "40/40 [==============================] - 21s 526ms/step - loss: 0.1088 - accuracy: 0.9688 - val_loss: 1.2740 - val_accuracy: 0.7000\n",
      "Epoch 45/50\n",
      "40/40 [==============================] - 21s 526ms/step - loss: 0.1839 - accuracy: 0.9625 - val_loss: 2.1671 - val_accuracy: 0.6750\n",
      "Epoch 46/50\n",
      "40/40 [==============================] - 21s 527ms/step - loss: 0.1797 - accuracy: 0.9500 - val_loss: 1.6155 - val_accuracy: 0.7750\n",
      "Epoch 47/50\n",
      "40/40 [==============================] - 21s 528ms/step - loss: 0.1843 - accuracy: 0.9438 - val_loss: 1.4805 - val_accuracy: 0.8000\n",
      "Epoch 48/50\n",
      "40/40 [==============================] - 21s 520ms/step - loss: 0.1119 - accuracy: 0.9812 - val_loss: 1.8528 - val_accuracy: 0.6000\n",
      "Epoch 49/50\n",
      "40/40 [==============================] - 21s 523ms/step - loss: 0.0902 - accuracy: 0.9750 - val_loss: 1.0409 - val_accuracy: 0.7750\n",
      "Epoch 50/50\n",
      "40/40 [==============================] - 21s 522ms/step - loss: 0.0327 - accuracy: 0.9875 - val_loss: 2.7721 - val_accuracy: 0.6250\n"
     ]
    }
   ],
   "source": [
    "history = model.fit(x=training_set,validation_data=test_set,epochs=50)"
   ]
  },
  {
   "cell_type": "code",
   "execution_count": 7,
   "id": "d57c8ca2",
   "metadata": {},
   "outputs": [],
   "source": [
    "from keras.models import load_model\n",
    "model.save(\"ut.h5\")\n"
   ]
  },
  {
   "cell_type": "code",
   "execution_count": 8,
   "id": "4f1db7a3",
   "metadata": {},
   "outputs": [],
   "source": [
    "model=load_model(\"ut.h5\")"
   ]
  },
  {
   "cell_type": "code",
   "execution_count": 74,
   "id": "f90121ca",
   "metadata": {},
   "outputs": [
    {
     "name": "stdout",
     "output_type": "stream",
     "text": [
      "1/1 [==============================] - 0s 78ms/step\n"
     ]
    }
   ],
   "source": [
    "from tensorflow.keras.preprocessing import image\n",
    "pred_image= image.load_img(r'C:\\dataset\\validation\\Spoon.jpg',target_size=(256,256))\n",
    "pred_image=image.img_to_array(pred_image)\n",
    "pred_image = np.expand_dims(pred_image,axis=0)\n",
    "result = model.predict(pred_image)"
   ]
  },
  {
   "cell_type": "code",
   "execution_count": 75,
   "id": "69698279",
   "metadata": {},
   "outputs": [
    {
     "name": "stdout",
     "output_type": "stream",
     "text": [
      "[[0. 0. 0. 1.]]\n"
     ]
    }
   ],
   "source": [
    "print(result)"
   ]
  },
  {
   "cell_type": "code",
   "execution_count": 73,
   "id": "90af5d71",
   "metadata": {},
   "outputs": [
    {
     "name": "stdout",
     "output_type": "stream",
     "text": [
      "Fork\n"
     ]
    }
   ],
   "source": [
    "if result[0][0]==1:\n",
    "    print(\"Fork\")\n",
    "elif result[0][1]==1:\n",
    "    print(\"glass\")  \n",
    "elif result[0][2]==1:\n",
    "    print(\"Plate\") \n",
    "elif result[0][3]==1:\n",
    "    print(\"Spoon\")      "
   ]
  },
  {
   "cell_type": "code",
   "execution_count": null,
   "id": "d7715c19",
   "metadata": {},
   "outputs": [],
   "source": []
  }
 ],
 "metadata": {
  "kernelspec": {
   "display_name": "Python 3 (ipykernel)",
   "language": "python",
   "name": "python3"
  },
  "language_info": {
   "codemirror_mode": {
    "name": "ipython",
    "version": 3
   },
   "file_extension": ".py",
   "mimetype": "text/x-python",
   "name": "python",
   "nbconvert_exporter": "python",
   "pygments_lexer": "ipython3",
   "version": "3.10.0"
  }
 },
 "nbformat": 4,
 "nbformat_minor": 5
}
